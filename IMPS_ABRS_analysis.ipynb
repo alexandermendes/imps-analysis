{
 "cells": [
  {
   "cell_type": "code",
   "execution_count": 2,
   "metadata": {
    "collapsed": false,
    "deletable": true,
    "editable": true
   },
   "outputs": [
    {
     "name": "stdout",
     "output_type": "stream",
     "text": [
      "Collecting plotly\n",
      "Requirement already satisfied: nbformat>=4.2 in /usr/local/lib/python2.7/site-packages (from plotly)\n",
      "Requirement already satisfied: six in /usr/local/lib/python2.7/site-packages (from plotly)\n",
      "Requirement already satisfied: decorator in /usr/local/lib/python2.7/site-packages (from plotly)\n",
      "Requirement already satisfied: pytz in /usr/local/lib/python2.7/site-packages (from plotly)\n",
      "Requirement already satisfied: requests in /usr/local/lib/python2.7/site-packages (from plotly)\n",
      "Requirement already satisfied: traitlets>=4.1 in /usr/local/lib/python2.7/site-packages (from nbformat>=4.2->plotly)\n",
      "Requirement already satisfied: ipython-genutils in /usr/local/lib/python2.7/site-packages (from nbformat>=4.2->plotly)\n",
      "Requirement already satisfied: jupyter-core in /usr/local/lib/python2.7/site-packages (from nbformat>=4.2->plotly)\n",
      "Requirement already satisfied: jsonschema!=2.5.0,>=2.4 in /usr/local/lib/python2.7/site-packages (from nbformat>=4.2->plotly)\n",
      "Requirement already satisfied: enum34; python_version == \"2.7\" in /usr/local/lib/python2.7/site-packages (from traitlets>=4.1->nbformat>=4.2->plotly)\n",
      "Requirement already satisfied: functools32; python_version == \"2.7\" in /usr/local/lib/python2.7/site-packages (from jsonschema!=2.5.0,>=2.4->nbformat>=4.2->plotly)\n",
      "Installing collected packages: plotly\n",
      "Successfully installed plotly-2.0.5\n"
     ]
    }
   ],
   "source": [
    "!pip install plotly"
   ]
  },
  {
   "cell_type": "code",
   "execution_count": 1,
   "metadata": {
    "collapsed": false,
    "deletable": true,
    "editable": true
   },
   "outputs": [
    {
     "ename": "ImportError",
     "evalue": "No module named plotly",
     "output_type": "error",
     "traceback": [
      "\u001b[0;31m---------------------------------------------------------------------------\u001b[0m",
      "\u001b[0;31mImportError\u001b[0m                               Traceback (most recent call last)",
      "\u001b[0;32m<ipython-input-1-c27a4132ad2e>\u001b[0m in \u001b[0;36m<module>\u001b[0;34m()\u001b[0m\n\u001b[0;32m----> 1\u001b[0;31m \u001b[0;32mimport\u001b[0m \u001b[0mplotly\u001b[0m\u001b[0;34m\u001b[0m\u001b[0m\n\u001b[0m",
      "\u001b[0;31mImportError\u001b[0m: No module named plotly"
     ]
    }
   ],
   "source": [
    "import plotly"
   ]
  },
  {
   "cell_type": "code",
   "execution_count": null,
   "metadata": {
    "collapsed": true,
    "deletable": true,
    "editable": true
   },
   "outputs": [],
   "source": []
  }
 ],
 "metadata": {
  "kernelspec": {
   "display_name": "Python 2",
   "language": "python",
   "name": "python2"
  },
  "language_info": {
   "codemirror_mode": {
    "name": "ipython",
    "version": 2
   },
   "file_extension": ".py",
   "mimetype": "text/x-python",
   "name": "python",
   "nbconvert_exporter": "python",
   "pygments_lexer": "ipython2",
   "version": "2.7.13"
  }
 },
 "nbformat": 4,
 "nbformat_minor": 2
}
